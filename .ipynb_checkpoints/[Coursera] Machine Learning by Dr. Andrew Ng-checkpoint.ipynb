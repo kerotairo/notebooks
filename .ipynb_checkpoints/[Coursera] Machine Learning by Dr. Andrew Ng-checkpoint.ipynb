{
 "cells": [
  {
   "cell_type": "markdown",
   "metadata": {},
   "source": [
    "# [Coursera] *Machine Learning* by *Dr. Andrew Ng*"
   ]
  },
  {
   "cell_type": "markdown",
   "metadata": {},
   "source": [
    "## Details:\n",
    "        I took this course since it has been recommended by a lot of notable people. I also came to know that Dr. Ng is like a rockstar in the AI Community. "
   ]
  },
  {
   "cell_type": "markdown",
   "metadata": {},
   "source": [
    "# Week 1\n",
    "**Introduction**\n",
    "* What is Machine Learning?\n",
    ">\"A computer program is said to learn from experience E with respect to some class of tasks T and performance measure P, if its performance at tasks in T, as measured by P, improves with experience E.\" - Tom Mitchell\n",
    "\n",
    "* Categories:\n",
    "  * Supervised Learning\n",
    "    * Regression - predict results in **continuous** output\n",
    "    * Classification - predict results in **discrete** output\n",
    "  * Unsupervised Learning\n",
    "    * Clustering - divide data into clusters \n",
    "    * Non-clustering - distinguish specific cluster from chaotic data"
   ]
  },
  {
   "cell_type": "markdown",
   "metadata": {},
   "source": [
    "**Cost Function**\n",
    "- We start with learning how to predict the price of a house based on different parameters (no. of bedrooms, lenght, width). To be able to predict the price, we would need a formula that fits the training set when plotted. \n",
    "\n",
    "- If we assume the training set to be linear in nature, we can say that the formula we are looking for is linear and in the form:\n",
    "\\begin{equation*}\n",
    "h(x) = \\theta_1 + \\theta_2x\n",
    "\\end{equation*}\n",
    "\n",
    "wherein we need to find $\\theta_1$ and $\\theta_2$ that would produce the plot nearest to our desired line. \n",
    "\n",
    "Our tasks is to:\n",
    "- Minimize $\\theta_1$ and $\\theta_2$ so that $h_\\theta (x)$ is close to *y* for training samples (*x,y*) in the cost function:\n",
    "\\begin{equation*}\n",
    "J(\\theta_0,\\theta_1) = \\frac{1}{2m} \\sum_{i=1}^m  (h_\\theta(x^{(i)}) - y^{(i)})^2\n",
    "\\end{equation*}\n",
    "\n",
    "Notes:\n",
    "* m is the number of training samples\n",
    "* 1/2 helps in simplification of getting the minimum\n",
    "* this gets the square of the difference of the mean\n",
    "\n"
   ]
  },
  {
   "cell_type": "markdown",
   "metadata": {},
   "source": []
  }
 ],
 "metadata": {
  "kernelspec": {
   "display_name": "Python 3",
   "language": "python",
   "name": "python3"
  },
  "language_info": {
   "codemirror_mode": {
    "name": "ipython",
    "version": 3
   },
   "file_extension": ".py",
   "mimetype": "text/x-python",
   "name": "python",
   "nbconvert_exporter": "python",
   "pygments_lexer": "ipython3",
   "version": "3.6.0"
  }
 },
 "nbformat": 4,
 "nbformat_minor": 2
}
