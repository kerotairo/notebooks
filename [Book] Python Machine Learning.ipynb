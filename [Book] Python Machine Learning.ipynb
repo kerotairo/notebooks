{
 "cells": [
  {
   "cell_type": "markdown",
   "metadata": {},
   "source": [
    "# Review of Machine Learning concepts\n",
    "\n",
    "## Types of Machine Learning\n",
    "\n",
    "![Known Types of Machine Learning](Images/Types_of_machine_learning.png)\n",
    "\n",
    "### Supervised Learning\n",
    "![Supervised Learning](Images/Supervised_learning.png)\n",
    "\n",
    "* Classification\n",
    "* Regression\n",
    "\n",
    "\n",
    "### Reinforcement Learning\n",
    "![Reinforcement Learning](Images/Reinforcement_learning.png)\n",
    "\n",
    "### Unsupervised Learning\n",
    "![Unsupervised Learning](Images/Unsupervised_learning.png)"
   ]
  }
 ],
 "metadata": {
  "kernelspec": {
   "display_name": "Python 3",
   "language": "python",
   "name": "python3"
  },
  "language_info": {
   "codemirror_mode": {
    "name": "ipython",
    "version": 3
   },
   "file_extension": ".py",
   "mimetype": "text/x-python",
   "name": "python",
   "nbconvert_exporter": "python",
   "pygments_lexer": "ipython3",
   "version": "3.6.0"
  }
 },
 "nbformat": 4,
 "nbformat_minor": 2
}
