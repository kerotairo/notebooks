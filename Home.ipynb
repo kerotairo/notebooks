{
 "cells": [
  {
   "cell_type": "markdown",
   "metadata": {},
   "source": [
    "# Welcome to Kevin's Jupyter notebook!\n",
    "    In this notebook, I am going to document as much as I could, my adventures in Machine Learning, Data Science and AI. \n",
    "    My notebooks are divided according to the resources/reference guide where I got the information from (website,book,podcast)"
   ]
  },
  {
   "cell_type": "markdown",
   "metadata": {},
   "source": [
    "## So far, here's everything I know:\n"
   ]
  },
  {
   "cell_type": "markdown",
   "metadata": {},
   "source": [
    " * [Machine Learning from Dr. Ng's Course in Coursera](https://github.com/kerotairo/notebooks/blob/master/%5BCoursera%5D%20Machine%20Learning%20by%20Dr.%20Andrew%20Ng.ipynb)\n",
    " * [Learning How to Learn from Dr. Oakley's Course in Coursera](https://github.com/kerotairo/notebooks/blob/master/%5BCoursera%5D%20Learning%20How%20%20Dr.%20Andrew%20Ng.ipynb)\n",
    " * [Data Science A-Z from Udemy](www.google.com)"
   ]
  }
 ],
 "metadata": {
  "kernelspec": {
   "display_name": "Python 3",
   "language": "python",
   "name": "python3"
  },
  "language_info": {
   "codemirror_mode": {
    "name": "ipython",
    "version": 3
   },
   "file_extension": ".py",
   "mimetype": "text/x-python",
   "name": "python",
   "nbconvert_exporter": "python",
   "pygments_lexer": "ipython3",
   "version": "3.6.0"
  }
 },
 "nbformat": 4,
 "nbformat_minor": 2
}
