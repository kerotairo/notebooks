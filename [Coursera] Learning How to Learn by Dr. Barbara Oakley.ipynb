{
 "cells": [
  {
   "cell_type": "markdown",
   "metadata": {},
   "source": [
    "# [Coursera] Learning How to Learn by *Dr. Barbara Oakley*"
   ]
  },
  {
   "cell_type": "markdown",
   "metadata": {},
   "source": [
    "## Focused vs Diffuse Mode\n",
    "- **Focused** \n",
    "  - thinking about something you are familiar with\n",
    "  - brain nodes are closed together\n",
    "  \n",
    "- **Diffuse**\n",
    "  - subconcios thinking\n",
    "  - usually done while taking a shower, jogging or walking\n",
    "  - provides wider insights and may help give better solutions that focused"
   ]
  },
  {
   "cell_type": "markdown",
   "metadata": {},
   "source": [
    "## Procrastination, Memory and Sleep\n",
    "- Procrastination has an initial ill feeling that we may overcome just by doing it\n",
    "- **Pomodoro technique**\n",
    "  - 25 mins of focused work then 5 mins of reward/break\n",
    "\n",
    "- Trying to remember details over time is better than trying to remember everything all at once\n",
    "- trying to remember everythin at once is like lifting weights repeatedly in one day, causing fatigue and not much progress. \n",
    "- **Sleep is importang**\n",
    "  - While sleeping, toxins on the brain are being washed away\n",
    "- **Exercise is important**\n",
    "  - Exercise helps build new neurons in the brain"
   ]
  },
  {
   "cell_type": "markdown",
   "metadata": {},
   "source": [
    "## Chunking -- The essentials\n",
    "- **What is a chunk?**\n",
    "  - Unite bits of information together, get the whole picture\n",
    "- **How to form a chunk?**\n",
    "  - learn small parts of the thing you want to learn (strumming in playing a guitar)\n",
    "  - \n"
   ]
  }
 ],
 "metadata": {
  "kernelspec": {
   "display_name": "Python 3",
   "language": "python",
   "name": "python3"
  },
  "language_info": {
   "codemirror_mode": {
    "name": "ipython",
    "version": 3
   },
   "file_extension": ".py",
   "mimetype": "text/x-python",
   "name": "python",
   "nbconvert_exporter": "python",
   "pygments_lexer": "ipython3",
   "version": "3.6.0"
  }
 },
 "nbformat": 4,
 "nbformat_minor": 2
}
